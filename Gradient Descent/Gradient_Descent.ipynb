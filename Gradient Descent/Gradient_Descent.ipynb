{
 "cells": [
  {
   "cell_type": "code",
   "execution_count": 1,
   "metadata": {},
   "outputs": [],
   "source": [
    "import numpy as np\n",
    "import pandas as pd\n",
    "cost_values=([])"
   ]
  },
  {
   "cell_type": "code",
   "execution_count": 2,
   "metadata": {},
   "outputs": [],
   "source": [
    "def gradient_descent(x,y):\n",
    "    m_curr=0\n",
    "    b_curr=0\n",
    "    iterations=100000\n",
    "    n=len(x)\n",
    "    learning_rate=0.01\n",
    "    for i in range(iterations):\n",
    "        y_cap=m_curr*x + b_curr\n",
    "        cost=1/n* sum([val**2 for val in(y-y_cap)])\n",
    "        md=-2/n*sum(x*(y-y_cap))\n",
    "        bd=-2/n*sum(y-y_cap)\n",
    "        m_curr=m_curr-learning_rate *md\n",
    "        b_curr=b_curr-learning_rate *bd\n",
    "        if i>iterations-5:\n",
    "            print(\"{}  m = {}               b= {}       cost= {} \".format(i,m_curr,b_curr,cost))\n",
    "        else: continue\n",
    "        cost_values.append(cost)"
   ]
  },
  {
   "cell_type": "code",
   "execution_count": null,
   "metadata": {},
   "outputs": [],
   "source": []
  },
  {
   "cell_type": "code",
   "execution_count": 6,
   "metadata": {},
   "outputs": [],
   "source": [
    "x=np.array([1,2,3,4,5])\n",
    "y=np.array([5,7,9,11,13])"
   ]
  },
  {
   "cell_type": "code",
   "execution_count": 7,
   "metadata": {},
   "outputs": [
    {
     "name": "stdout",
     "output_type": "stream",
     "text": [
      "99996  m = 2.0000000000000218               b= 2.999999999999924       cost= 1.0414541670727798e-27 \n",
      "99997  m = 2.0000000000000218               b= 2.999999999999924       cost= 1.0414541670727798e-27 \n",
      "99998  m = 2.0000000000000218               b= 2.999999999999924       cost= 1.0414541670727798e-27 \n",
      "99999  m = 2.0000000000000218               b= 2.999999999999924       cost= 1.0414541670727798e-27 \n"
     ]
    }
   ],
   "source": [
    "df= gradient_descent(x,y)\n"
   ]
  },
  {
   "cell_type": "code",
   "execution_count": 8,
   "metadata": {},
   "outputs": [],
   "source": [
    "#cost_values"
   ]
  },
  {
   "cell_type": "code",
   "execution_count": 9,
   "metadata": {},
   "outputs": [
    {
     "data": {
      "text/plain": [
       "1.0414541670727798e-27"
      ]
     },
     "execution_count": 9,
     "metadata": {},
     "output_type": "execute_result"
    }
   ],
   "source": [
    "min_cost= min(cost_values)\n",
    "min_cost"
   ]
  },
  {
   "cell_type": "code",
   "execution_count": 63,
   "metadata": {},
   "outputs": [
    {
     "name": "stdout",
     "output_type": "stream",
     "text": [
      "999\n"
     ]
    }
   ],
   "source": [
    "min_cost_iteration_number= print(cost_values.index(min_cost))"
   ]
  },
  {
   "cell_type": "code",
   "execution_count": 10,
   "metadata": {},
   "outputs": [
    {
     "name": "stdout",
     "output_type": "stream",
     "text": [
      "Hello\n"
     ]
    }
   ],
   "source": [
    "print(\"Hello\")"
   ]
  },
  {
   "cell_type": "code",
   "execution_count": null,
   "metadata": {},
   "outputs": [],
   "source": []
  }
 ],
 "metadata": {
  "kernelspec": {
   "display_name": "Python 3",
   "language": "python",
   "name": "python3"
  },
  "language_info": {
   "codemirror_mode": {
    "name": "ipython",
    "version": 3
   },
   "file_extension": ".py",
   "mimetype": "text/x-python",
   "name": "python",
   "nbconvert_exporter": "python",
   "pygments_lexer": "ipython3",
   "version": "3.8.3"
  }
 },
 "nbformat": 4,
 "nbformat_minor": 4
}
